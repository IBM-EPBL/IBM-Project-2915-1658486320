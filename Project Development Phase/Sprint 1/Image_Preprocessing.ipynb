{
  "nbformat": 4,
  "nbformat_minor": 0,
  "metadata": {
    "colab": {
      "provenance": []
    },
    "kernelspec": {
      "name": "python3",
      "display_name": "Python 3"
    },
    "language_info": {
      "name": "python"
    }
  },
  "cells": [
    {
      "cell_type": "code",
      "execution_count": 1,
      "metadata": {
        "colab": {
          "base_uri": "https://localhost:8080/"
        },
        "id": "kjahIm7svvlw",
        "outputId": "47a30df5-233c-4339-f29d-f23096d6a808"
      },
      "outputs": [
        {
          "output_type": "stream",
          "name": "stdout",
          "text": [
            "Mounted at /content/drive/\n"
          ]
        }
      ],
      "source": [
        "from google.colab import drive\n",
        "drive.mount('/content/drive/')"
      ]
    },
    {
      "cell_type": "code",
      "source": [
        "!unzip \"/content/drive/MyDrive/archive (1)/Dataset\""
      ],
      "metadata": {
        "colab": {
          "base_uri": "https://localhost:8080/"
        },
        "id": "6nbvNk2PwEKp",
        "outputId": "0e1c0b36-cdbc-4a28-a51d-8916ee30df0f"
      },
      "execution_count": 3,
      "outputs": [
        {
          "output_type": "stream",
          "name": "stdout",
          "text": [
            "unzip:  cannot find or open /content/drive/MyDrive/archive (1)/Dataset, /content/drive/MyDrive/archive (1)/Dataset.zip or /content/drive/MyDrive/archive (1)/Dataset.ZIP.\n"
          ]
        }
      ]
    },
    {
      "cell_type": "markdown",
      "source": [
        "importing Required libraries"
      ],
      "metadata": {
        "id": "Ay42pJqawkgh"
      }
    },
    {
      "cell_type": "code",
      "source": [
        "import keras\n",
        "from keras.preprocessing.image import ImageDataGenerator"
      ],
      "metadata": {
        "id": "FxNLPikKwrIL"
      },
      "execution_count": 4,
      "outputs": []
    },
    {
      "cell_type": "markdown",
      "source": [
        "Define parameters and arguments for ImageDataGeneratior"
      ],
      "metadata": {
        "id": "4a5m_IOLwyBp"
      }
    },
    {
      "cell_type": "code",
      "source": [
        "train_datagen=ImageDataGenerator(rescale=1./255,\n",
        "                                 shear_range=0.2,\n",
        "                                 rotation_range=180,\n",
        "                                 zoom_range=0.2,\n",
        "                                 horizontal_flip=True)\n",
        "test_datagen=ImageDataGenerator(rescale=1./255)"
      ],
      "metadata": {
        "id": "kvWmCg-pwziB"
      },
      "execution_count": 5,
      "outputs": []
    },
    {
      "cell_type": "markdown",
      "source": [
        "Applying ImageDataGenerator"
      ],
      "metadata": {
        "id": "ieagSmOGw53x"
      }
    },
    {
      "cell_type": "code",
      "source": [
        "x_test = test_datagen.flow_from_directory(r'/content/drive/MyDrive/archive (1)/Dataset/Dataset/test_set',\n",
        "                                          target_size=(128,128),\n",
        "                                          batch_size=32,\n",
        "                                          class_mode='binary')"
      ],
      "metadata": {
        "colab": {
          "base_uri": "https://localhost:8080/"
        },
        "id": "NWzVyFMew7qq",
        "outputId": "97055840-653a-4fb3-b34e-5b2682c4a8e7"
      },
      "execution_count": 7,
      "outputs": [
        {
          "output_type": "stream",
          "name": "stdout",
          "text": [
            "Found 121 images belonging to 2 classes.\n"
          ]
        }
      ]
    },
    {
      "cell_type": "code",
      "source": [
        "x_train = train_datagen.flow_from_directory(r'/content/drive/MyDrive/archive (1)/Dataset/Dataset/train_set',\n",
        "                                          target_size=(128,128),\n",
        "                                          batch_size=32,\n",
        "                                          class_mode='binary')"
      ],
      "metadata": {
        "colab": {
          "base_uri": "https://localhost:8080/"
        },
        "id": "L4GvdCoZxOAS",
        "outputId": "c3f06b51-3bd1-4de5-bccd-82d0e87c5baa"
      },
      "execution_count": 8,
      "outputs": [
        {
          "output_type": "stream",
          "name": "stdout",
          "text": [
            "Found 436 images belonging to 2 classes.\n"
          ]
        }
      ]
    }
  ]
}